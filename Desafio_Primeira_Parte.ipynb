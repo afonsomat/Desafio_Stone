{
 "cells": [
  {
   "cell_type": "code",
   "execution_count": 2,
   "metadata": {},
   "outputs": [
    {
     "name": "stdout",
     "output_type": "stream",
     "text": [
      "35.059922453295734\n"
     ]
    }
   ],
   "source": [
    "#What is the average age of the customers in the database?\n",
    "\n",
    "import pandas as pd\n",
    "#Começando importando a biblioteca pandas que será fundamental\n",
    "\n",
    "\n",
    "customers = pd.read_csv(\"customers.csv\", sep = ';' )\n",
    "#Lendo o arquivo customers.csv e guardando na variável \"customers\"\n",
    "\n",
    "\n",
    "idademedia = customers['age'].mean()\n",
    "#Calculando a idade media dos \"customers\"\n",
    "\n",
    "print(idademedia)\n",
    "\n",
    "#A idade média é mostrada na tela (~35.06 Anos)"
   ]
  },
  {
   "cell_type": "code",
   "execution_count": 3,
   "metadata": {},
   "outputs": [
    {
     "data": {
      "text/html": [
       "<div>\n",
       "<style scoped>\n",
       "    .dataframe tbody tr th:only-of-type {\n",
       "        vertical-align: middle;\n",
       "    }\n",
       "\n",
       "    .dataframe tbody tr th {\n",
       "        vertical-align: top;\n",
       "    }\n",
       "\n",
       "    .dataframe thead th {\n",
       "        text-align: right;\n",
       "    }\n",
       "</style>\n",
       "<table border=\"1\" class=\"dataframe\">\n",
       "  <thead>\n",
       "    <tr style=\"text-align: right;\">\n",
       "      <th></th>\n",
       "      <th>credit_limit</th>\n",
       "    </tr>\n",
       "    <tr>\n",
       "      <th>card_family</th>\n",
       "      <th></th>\n",
       "    </tr>\n",
       "  </thead>\n",
       "  <tbody>\n",
       "    <tr>\n",
       "      <th>Gold</th>\n",
       "      <td>2000</td>\n",
       "    </tr>\n",
       "    <tr>\n",
       "      <th>Platinum</th>\n",
       "      <td>51000</td>\n",
       "    </tr>\n",
       "    <tr>\n",
       "      <th>Premium</th>\n",
       "      <td>108000</td>\n",
       "    </tr>\n",
       "  </tbody>\n",
       "</table>\n",
       "</div>"
      ],
      "text/plain": [
       "             credit_limit\n",
       "card_family              \n",
       "Gold                 2000\n",
       "Platinum            51000\n",
       "Premium            108000"
      ]
     },
     "execution_count": 3,
     "metadata": {},
     "output_type": "execute_result"
    }
   ],
   "source": [
    "#How is the card_family ranked based on the credit_limit given to each card?\n",
    "\n",
    "cards = pd.read_csv(\"cards.csv\", sep = ';' )\n",
    "#Lendo o arquivo cards.csv e guardando na variável \"cards\"\n",
    "\n",
    "cards[['credit_limit', 'card_family']].groupby('card_family').min()\n",
    "#Selecionando as colunas \"credit_limit\" e \"card_family\" e descobrindo os menores valores\n"
   ]
  },
  {
   "cell_type": "code",
   "execution_count": 4,
   "metadata": {},
   "outputs": [
    {
     "data": {
      "text/html": [
       "<div>\n",
       "<style scoped>\n",
       "    .dataframe tbody tr th:only-of-type {\n",
       "        vertical-align: middle;\n",
       "    }\n",
       "\n",
       "    .dataframe tbody tr th {\n",
       "        vertical-align: top;\n",
       "    }\n",
       "\n",
       "    .dataframe thead th {\n",
       "        text-align: right;\n",
       "    }\n",
       "</style>\n",
       "<table border=\"1\" class=\"dataframe\">\n",
       "  <thead>\n",
       "    <tr style=\"text-align: right;\">\n",
       "      <th></th>\n",
       "      <th>credit_limit</th>\n",
       "    </tr>\n",
       "    <tr>\n",
       "      <th>card_family</th>\n",
       "      <th></th>\n",
       "    </tr>\n",
       "  </thead>\n",
       "  <tbody>\n",
       "    <tr>\n",
       "      <th>Gold</th>\n",
       "      <td>50000</td>\n",
       "    </tr>\n",
       "    <tr>\n",
       "      <th>Platinum</th>\n",
       "      <td>200000</td>\n",
       "    </tr>\n",
       "    <tr>\n",
       "      <th>Premium</th>\n",
       "      <td>899000</td>\n",
       "    </tr>\n",
       "  </tbody>\n",
       "</table>\n",
       "</div>"
      ],
      "text/plain": [
       "             credit_limit\n",
       "card_family              \n",
       "Gold                50000\n",
       "Platinum           200000\n",
       "Premium            899000"
      ]
     },
     "execution_count": 4,
     "metadata": {},
     "output_type": "execute_result"
    }
   ],
   "source": [
    "cards = pd.read_csv(\"cards.csv\", sep = ';' )\n",
    "\n",
    "\n",
    "cards[['credit_limit', 'card_family']].groupby('card_family').max()\n",
    "#Selecionando as colunas \"credit_limit\" e \"card_family\" e descobrindo os maiores valores\n",
    "\n",
    "#Assim descobrimos que o card_family está associado com o credit_limit da seguinte forma\n",
    "#Se o credit_limit é menor que 50000 o cartão é Gold\n",
    "#Se o credit_limit é maior ou igual a 51000 e menor que 108000 o cartão é Platinum\n",
    "#Se o credit_limit está entre 108000 e 200000 o cartão pode ser Platinum ou Premium\n",
    "#E por último, se o cartão tem credit_limit maior que 200000 então ele é Premium"
   ]
  },
  {
   "cell_type": "code",
   "execution_count": 7,
   "metadata": {},
   "outputs": [
    {
     "name": "stdout",
     "output_type": "stream",
     "text": [
      "                id  value\n",
      "600   CTID20567160  49155\n",
      "9619  CTID15034243  48845\n",
      "4552  CTID95884307  48588\n",
      "646   CTID54759604  48567\n",
      "4142  CTID55429304  48514\n",
      "2529  CTID29469747  48453\n",
      "494   CTID76723439  48275\n",
      "6387  CTID85085771  48186\n",
      "2214  CTID25962688  45807\n",
      "2009  CTID60575167  45760\n",
      "4717  CTID42980186  45625\n",
      "336   CTID63762180  44550\n",
      "7720  CTID31867370  44234\n",
      "5418  CTID40881434  43482\n",
      "7661  CTID41847490  42816\n",
      "957   CTID81479835  41525\n",
      "6075  CTID89116114  41216\n",
      "6082  CTID30763806  40751\n",
      "6808  CTID32907279  38744\n",
      "6035  CTID23350804  38505\n"
     ]
    }
   ],
   "source": [
    "#For the transactions flagged as fraud, what are the ids of the transactions with the highest value?\n",
    "\n",
    "\n",
    "frauds = pd.read_csv(\"frauds.csv\", sep = ';' )\n",
    "\n",
    "#Lendo o arquivo 'frauds.csv' e armazenando na variável frauds\n",
    "\n",
    "transactions = pd.read_csv(\"transactions.csv\", sep = ';' )\n",
    "\n",
    "#Lendo o arquivo 'transactions.csv' e armazenando na variável transactions\n",
    "\n",
    "\n",
    "\n",
    "\n",
    "\n",
    "transactions_frauds = transactions.loc[transactions['id'].isin(frauds['transaction_id'])]\n",
    "#Relacionando o 'transaction_id' da variável frauds com o 'id' da variável transactions, procurando por interesecções\n",
    "#A lógica por trás é, vamos extrair mais informações das transações fraudulentas caso encontremos elas no arquivo de transações.\n",
    "\n",
    "\n",
    "\n",
    "\n",
    "frauds_c = transactions_frauds[['id', 'value',]].sort_values(by = 'value', ascending = False)\n",
    "#Agora, utilizando a varíavel criada acima, vamos extrair apenas o 'id' e o 'value' que foi pedido na questão, em forma descrescente.\n",
    "\n",
    "\n",
    "\n",
    "\n",
    "\n",
    "print(frauds_c.head(20))\n",
    "#Será mostrado na tela as 20 transações com os maiores valores e seus respectivos 'id's.\n",
    "#Caso queira mais ou menos que 20, basta mudar o argumento da função .head() que está 20 para a quantia desejada.\n"
   ]
  },
  {
   "cell_type": "code",
   "execution_count": null,
   "metadata": {},
   "outputs": [],
   "source": []
  }
 ],
 "metadata": {
  "kernelspec": {
   "display_name": "Python 3",
   "language": "python",
   "name": "python3"
  },
  "language_info": {
   "codemirror_mode": {
    "name": "ipython",
    "version": 3
   },
   "file_extension": ".py",
   "mimetype": "text/x-python",
   "name": "python",
   "nbconvert_exporter": "python",
   "pygments_lexer": "ipython3",
   "version": "3.8.5"
  }
 },
 "nbformat": 4,
 "nbformat_minor": 4
}
